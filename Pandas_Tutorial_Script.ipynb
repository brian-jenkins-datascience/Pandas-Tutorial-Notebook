{
 "cells": [
  {
   "cell_type": "markdown",
   "id": "cabed66d-0d3b-4ea4-a1a8-715d0aeb7a95",
   "metadata": {
    "tags": []
   },
   "source": [
    "# Import Pandas!"
   ]
  },
  {
   "cell_type": "markdown",
   "id": "96b010e2-ea41-4f65-92ec-fdb15b1517d7",
   "metadata": {
    "tags": []
   },
   "source": [
    "We start by importing pandas! This package is included with the base installation of Anaconda.\n",
    "\n",
    "Also let's import numpy."
   ]
  },
  {
   "cell_type": "code",
   "execution_count": null,
   "id": "29e25a48-d67d-46c8-9137-22e2d80905c8",
   "metadata": {
    "tags": []
   },
   "outputs": [],
   "source": [
    "import pandas as pd\n",
    "import numpy as np"
   ]
  },
  {
   "cell_type": "markdown",
   "id": "1ad6e70a-fe2f-4e85-a99a-fe32748e790d",
   "metadata": {
    "tags": []
   },
   "source": [
    "# Series and DataFrame Basics"
   ]
  },
  {
   "cell_type": "markdown",
   "id": "51ad89e6-9b9b-4b8c-b495-2dc83820512f",
   "metadata": {},
   "source": [
    "Now we need some data to manipulate...\n",
    "\n",
    "Suppose there were 7 guys whose favorite colors and numbers were as given below:"
   ]
  },
  {
   "cell_type": "markdown",
   "id": "fa399510-1750-4c2f-b017-e7abcefb321a",
   "metadata": {
    "tags": []
   },
   "source": [
    "## Creating a DataFrame"
   ]
  },
  {
   "cell_type": "code",
   "execution_count": null,
   "id": "ad61b8f7-73f9-413e-a9c8-a6e3602857b2",
   "metadata": {
    "tags": []
   },
   "outputs": [],
   "source": [
    "names = ['Timmy','Jimmy','Ed','Ned','Fred','Jed','Ted']\n",
    "colors = ['red','blue','green','red','yellow','orange','blue']\n",
    "numbers = [100,25,34,7,60,2,55]"
   ]
  },
  {
   "cell_type": "code",
   "execution_count": null,
   "id": "6458ab5c-906c-46ae-989a-2e60cd9bd2cf",
   "metadata": {
    "tags": []
   },
   "outputs": [],
   "source": [
    "df = pd.DataFrame({'Name': names, 'Color': colors,'Number':numbers})"
   ]
  },
  {
   "cell_type": "code",
   "execution_count": null,
   "id": "2b49007b-035c-499b-a236-3ab718210f99",
   "metadata": {
    "tags": []
   },
   "outputs": [],
   "source": [
    "df"
   ]
  },
  {
   "cell_type": "code",
   "execution_count": null,
   "id": "0ba2d71e-f68d-4795-b9c5-5e9c4dcc7642",
   "metadata": {
    "tags": []
   },
   "outputs": [],
   "source": [
    "df.columns.tolist() #first do without .tolist()"
   ]
  },
  {
   "cell_type": "code",
   "execution_count": null,
   "id": "6f71b283-f75f-4b83-bf91-06b1d020de9f",
   "metadata": {
    "tags": []
   },
   "outputs": [],
   "source": [
    "df.index.tolist()"
   ]
  },
  {
   "cell_type": "markdown",
   "id": "717ffa85-179e-4652-94cf-7e3a1e5fb0ba",
   "metadata": {
    "tags": []
   },
   "source": [
    "## Accessing Columns/Rows"
   ]
  },
  {
   "cell_type": "code",
   "execution_count": null,
   "id": "451f22b0-6b5a-4349-8601-4d2575aae6af",
   "metadata": {
    "tags": []
   },
   "outputs": [],
   "source": [
    "df['Name']"
   ]
  },
  {
   "cell_type": "code",
   "execution_count": null,
   "id": "c0df37f3-8d0d-488d-a749-731ab229cee3",
   "metadata": {
    "tags": []
   },
   "outputs": [],
   "source": [
    "df['Color']"
   ]
  },
  {
   "cell_type": "code",
   "execution_count": null,
   "id": "e4ad8218-002c-459f-9c16-e90ae0e4400b",
   "metadata": {
    "tags": []
   },
   "outputs": [],
   "source": [
    "df.loc[1]"
   ]
  },
  {
   "cell_type": "markdown",
   "id": "080fd8b9-65fe-4bf0-8f16-65b9a8702262",
   "metadata": {
    "tags": []
   },
   "source": [
    "## Selecting Multiple Columns/Rows"
   ]
  },
  {
   "cell_type": "code",
   "execution_count": null,
   "id": "0b6ee201-5eb6-4294-8913-e00797c5570d",
   "metadata": {
    "tags": []
   },
   "outputs": [],
   "source": [
    "df[['Color','Name']]"
   ]
  },
  {
   "cell_type": "code",
   "execution_count": null,
   "id": "b950d4fa-571f-4e84-bc25-34b401d7f124",
   "metadata": {
    "tags": []
   },
   "outputs": [],
   "source": [
    "df.loc[[1,3]]"
   ]
  },
  {
   "cell_type": "markdown",
   "id": "c8706d52-c537-4492-b796-559bb2f2affb",
   "metadata": {
    "tags": []
   },
   "source": [
    "## Selecting the First/Last k Amount of Rows "
   ]
  },
  {
   "cell_type": "code",
   "execution_count": null,
   "id": "e1de2649-7cd1-4a64-bed1-ae7a14c81d5a",
   "metadata": {
    "tags": []
   },
   "outputs": [],
   "source": [
    "df.head(5)"
   ]
  },
  {
   "cell_type": "code",
   "execution_count": null,
   "id": "34f0c8a0-cd4a-4ad6-baad-31ece8dc6dfc",
   "metadata": {
    "tags": []
   },
   "outputs": [],
   "source": [
    "df.tail(3)"
   ]
  },
  {
   "cell_type": "markdown",
   "id": "02ba4d95-84ad-400d-8c33-7f7f84ac4996",
   "metadata": {
    "tags": []
   },
   "source": [
    "## Iterating through rows of a dataframe"
   ]
  },
  {
   "cell_type": "markdown",
   "id": "7e5f2018-e25b-48e2-beb0-51a8bcf763bf",
   "metadata": {},
   "source": [
    "Generally speaking, I'm not a big fan of iterating through dataframes as a solution since dataframes are built for vectorization. \n",
    "\n",
    "\n",
    "However sometimes it's necessary, and we can iterate through the rows of a dataframe as follows:"
   ]
  },
  {
   "cell_type": "code",
   "execution_count": null,
   "id": "d0aeec30-3d59-4e85-b4f1-2a027a1e139f",
   "metadata": {
    "tags": []
   },
   "outputs": [],
   "source": [
    "df"
   ]
  },
  {
   "cell_type": "code",
   "execution_count": null,
   "id": "6cfcfc9e-eec0-4468-b0a8-78b41a9fc159",
   "metadata": {
    "tags": []
   },
   "outputs": [],
   "source": [
    "for index, row in df.iterrows(): #this outputs 2 things: an index and a pandas Series. We use row.values to extract the row values themselves.\n",
    "    print(index, end='\\t')\n",
    "    print(row.values)    #first execute without .values to show the difference"
   ]
  },
  {
   "cell_type": "code",
   "execution_count": null,
   "id": "2bea6c8b-ad3a-4d25-a2e4-8ab4408642bc",
   "metadata": {
    "tags": []
   },
   "outputs": [],
   "source": [
    "for index, row in df.iterrows():\n",
    "    print('Index: {}\\tName: {}\\tFavorite Number: {}'.format(index,row['Name'],row['Number']))"
   ]
  },
  {
   "cell_type": "markdown",
   "id": "cd2e2e4f-9639-42e6-82a0-de1e753c54ec",
   "metadata": {
    "tags": [],
    "toc-hr-collapsed": true
   },
   "source": [
    "# Manipulating DataFrames"
   ]
  },
  {
   "cell_type": "markdown",
   "id": "bb9f7700-bea8-4b72-8f2a-e89cbf11d8c8",
   "metadata": {},
   "source": [
    "## Adding Columns to DataFrame"
   ]
  },
  {
   "cell_type": "code",
   "execution_count": null,
   "id": "5c628d34-8ada-4703-9ec5-aceec41e4084",
   "metadata": {},
   "outputs": [],
   "source": [
    "df['Age'] = [25,20,19,np.nan,50,23,40]"
   ]
  },
  {
   "cell_type": "code",
   "execution_count": null,
   "id": "ceea5427-9c58-431b-a39f-119ff6dcec2e",
   "metadata": {},
   "outputs": [],
   "source": [
    "df"
   ]
  },
  {
   "cell_type": "markdown",
   "id": "5afb87d3-7227-4c12-bccc-6d4395ad71da",
   "metadata": {},
   "source": [
    "## Adding Rows to DataFrame"
   ]
  },
  {
   "cell_type": "code",
   "execution_count": null,
   "id": "42c8b02e-b671-483c-81dd-f8f1bcb1c898",
   "metadata": {},
   "outputs": [],
   "source": [
    "df.loc[7] = ['Bob',np.nan,80,39]"
   ]
  },
  {
   "cell_type": "code",
   "execution_count": null,
   "id": "2b53e972-dfd6-4372-a81a-4dcae1152863",
   "metadata": {},
   "outputs": [],
   "source": [
    "df"
   ]
  },
  {
   "cell_type": "markdown",
   "id": "731fa306-449b-40fe-94bd-f7f1645c7be5",
   "metadata": {},
   "source": [
    "## Concatenating Two DataFrames"
   ]
  },
  {
   "cell_type": "code",
   "execution_count": null,
   "id": "bef6d140-b1b0-4611-be56-1f6724b2caa5",
   "metadata": {},
   "outputs": [],
   "source": [
    "df_new = pd.DataFrame({'Name': ['Steve','Julius','Dwight'], 'Color': ['violet','indigo','pink'],'Number': [392,40,10],'Age': [24,42,33]})"
   ]
  },
  {
   "cell_type": "code",
   "execution_count": null,
   "id": "ab0cdd25-ac6f-40bd-ac43-ba1c3c9a15bd",
   "metadata": {},
   "outputs": [],
   "source": [
    "pd.concat([df,df_new]) #notice the indices"
   ]
  },
  {
   "cell_type": "code",
   "execution_count": null,
   "id": "788629aa-d51f-4b4c-b345-d0fca960d4aa",
   "metadata": {},
   "outputs": [],
   "source": [
    "pd.concat([df,df_new]).loc[0].iloc[1] #With these indices, obtaining the row containing Steve via indices is sloppy, isn't it?"
   ]
  },
  {
   "cell_type": "code",
   "execution_count": null,
   "id": "928f6a5d-c29d-42e3-bf10-6bb5c32a810a",
   "metadata": {},
   "outputs": [],
   "source": [
    "pd.concat([df,df_new],ignore_index=True) #much more intuitive now to simply use .loc[8]"
   ]
  },
  {
   "cell_type": "code",
   "execution_count": null,
   "id": "8f0be643-74de-4410-bc95-1538ed53a7c5",
   "metadata": {},
   "outputs": [],
   "source": [
    "pd.concat([df,df_new],ignore_index=True).loc[8]"
   ]
  },
  {
   "cell_type": "markdown",
   "id": "1f3e104a-fdb4-4f73-82a9-400434fd2b47",
   "metadata": {},
   "source": [
    "## Replacing data within a DataFrame"
   ]
  },
  {
   "cell_type": "markdown",
   "id": "e0e199cc-c2e9-428f-9f90-05be2590f7fc",
   "metadata": {},
   "source": [
    "Whole entries"
   ]
  },
  {
   "cell_type": "code",
   "execution_count": null,
   "id": "35ecfddd-c2d9-4493-8bbf-e465531fb1f4",
   "metadata": {},
   "outputs": [],
   "source": [
    "df.replace('blue','purple') # replaces whole entries in the dataframe"
   ]
  },
  {
   "cell_type": "markdown",
   "id": "8327e191-b844-4e0e-a970-26cc7a18c557",
   "metadata": {},
   "source": [
    "Substrings"
   ]
  },
  {
   "cell_type": "code",
   "execution_count": null,
   "id": "a6a593ad-21cc-4bb3-80e7-6f887012e507",
   "metadata": {},
   "outputs": [],
   "source": [
    "df.replace('immy','imbo',regex = True) #replaces string patterns within each word"
   ]
  },
  {
   "cell_type": "markdown",
   "id": "7a441e5c-98de-44e4-8b08-9262a60575dd",
   "metadata": {},
   "source": [
    "## Filling in Missing Data Values"
   ]
  },
  {
   "cell_type": "code",
   "execution_count": null,
   "id": "b59be83c-26ff-4017-b6ac-50c96e71abda",
   "metadata": {
    "tags": []
   },
   "outputs": [],
   "source": [
    "df.fillna(0) "
   ]
  },
  {
   "cell_type": "code",
   "execution_count": null,
   "id": "3d533e4e-cd32-422e-96eb-193ced31aae6",
   "metadata": {
    "tags": []
   },
   "outputs": [],
   "source": [
    "df['Age'].mean()"
   ]
  },
  {
   "cell_type": "code",
   "execution_count": null,
   "id": "61aaa86b-a8e6-455c-a3b8-e4b8af4b1815",
   "metadata": {},
   "outputs": [],
   "source": [
    "df = df.fillna({'Color':'none','Age':df['Age'].mean()})"
   ]
  },
  {
   "cell_type": "code",
   "execution_count": null,
   "id": "d2736ab4-afb9-4d8f-bcd6-ef13936599ba",
   "metadata": {},
   "outputs": [],
   "source": [
    "df"
   ]
  },
  {
   "cell_type": "code",
   "execution_count": null,
   "id": "0833b2b7-e922-4be3-bcec-f2f899d6d465",
   "metadata": {},
   "outputs": [],
   "source": [
    "df['Age'].round()"
   ]
  },
  {
   "cell_type": "code",
   "execution_count": null,
   "id": "848e7544-1d26-4771-9027-72bd71b1ea1a",
   "metadata": {},
   "outputs": [],
   "source": [
    "df['Age'] = df['Age'].round().astype(int)"
   ]
  },
  {
   "cell_type": "code",
   "execution_count": null,
   "id": "837fd443-13e2-4f3a-8934-b617e5a3f459",
   "metadata": {},
   "outputs": [],
   "source": [
    "df"
   ]
  },
  {
   "cell_type": "markdown",
   "id": "21817930-216d-4d57-9edd-09bb4773be38",
   "metadata": {},
   "source": [
    "## Filtering DataFrames"
   ]
  },
  {
   "cell_type": "code",
   "execution_count": null,
   "id": "cf23ec14-addb-4109-9c45-d93b606bfdc5",
   "metadata": {},
   "outputs": [],
   "source": [
    "df"
   ]
  },
  {
   "cell_type": "code",
   "execution_count": null,
   "id": "2b9f7063-49d7-469d-8ce4-a2acafcd5848",
   "metadata": {},
   "outputs": [],
   "source": [
    "df[df['Number'] < df['Age']]"
   ]
  },
  {
   "cell_type": "markdown",
   "id": "0d068adf-9879-4773-a681-12741cfc371d",
   "metadata": {},
   "source": [
    "### .str accessor within dataframes"
   ]
  },
  {
   "cell_type": "code",
   "execution_count": null,
   "id": "4c29f9a9-05b5-40f7-84e0-41d035e3a2d3",
   "metadata": {},
   "outputs": [],
   "source": [
    "df[df['Name'].str.contains('ed')] #rows such that the 'Name' field contains the string 'ed'"
   ]
  },
  {
   "cell_type": "code",
   "execution_count": null,
   "id": "428bf216-701e-4b8c-a62b-a35ac3a9b2f4",
   "metadata": {},
   "outputs": [],
   "source": [
    "df[df['Color'].str.count('l') >= 1] #rows such that the 'Color' field contains at least 1 'l'"
   ]
  },
  {
   "cell_type": "markdown",
   "id": "32ea872f-93d4-4656-8f0b-304538ab0d7b",
   "metadata": {},
   "source": [
    "### Multiple conditions"
   ]
  },
  {
   "cell_type": "markdown",
   "id": "526d8a63-a5bd-4c8f-a776-bd0c31e0d801",
   "metadata": {},
   "source": [
    "Whenever you have multiple conditions in a dataframe query, you need to ensure that each condition is surrounded by parentheses. This is due to how the order of operations works within pandas."
   ]
  },
  {
   "cell_type": "code",
   "execution_count": null,
   "id": "19740230-5f98-4c40-b7df-1c6c1ed364d8",
   "metadata": {},
   "outputs": [],
   "source": [
    "df[(df['Number'] > 20) & (df['Age'] > 30)] "
   ]
  },
  {
   "cell_type": "code",
   "execution_count": null,
   "id": "ffd809df-3906-4e07-9a06-3d18ba777c59",
   "metadata": {},
   "outputs": [],
   "source": [
    "# & = 'AND'\n",
    "# | = 'OR'\n",
    "\n",
    "df[(df['Number'] > 20) & (df['Age'] > 30) | (df['Name'].str.contains('immy'))]"
   ]
  },
  {
   "cell_type": "markdown",
   "id": "bbd76b43-0411-4497-9183-deed0ecfd8fb",
   "metadata": {},
   "source": [
    "### Using Existing Columns to Make New Columns"
   ]
  },
  {
   "cell_type": "code",
   "execution_count": null,
   "id": "95cce360-7497-4b5f-b273-ad02b63901e5",
   "metadata": {},
   "outputs": [],
   "source": [
    "df['Num_Age_Ratio'] = df['Number']/df['Age']"
   ]
  },
  {
   "cell_type": "code",
   "execution_count": null,
   "id": "b5fe3fbb-8500-4871-af7c-a446c786caad",
   "metadata": {},
   "outputs": [],
   "source": [
    "df"
   ]
  },
  {
   "cell_type": "markdown",
   "id": "74f2b4c5-a9d0-456e-8c09-fc7b4865a2d1",
   "metadata": {
    "tags": []
   },
   "source": [
    "# Reading & Writing DataFrames"
   ]
  },
  {
   "cell_type": "markdown",
   "id": "e8361a8b-4c48-4771-b548-12fa36bc0d12",
   "metadata": {},
   "source": [
    "## Reading CSVs"
   ]
  },
  {
   "cell_type": "markdown",
   "id": "ec071d86-bde8-4651-971e-6978bc6a7eb6",
   "metadata": {},
   "source": [
    "Suppose you have a CSV of the Harry Potter characters - how would you load it into python? f.open and readlines or some shit like that? \n",
    "NOOOOOOOOOOOOO\n",
    "\n",
    "use pandas!!"
   ]
  },
  {
   "cell_type": "code",
   "execution_count": null,
   "id": "affb7c4c-3f76-4089-860b-9750f34a7c8c",
   "metadata": {},
   "outputs": [],
   "source": [
    "HP_chars_df = pd.read_csv('Data/Characters.csv')\n",
    "HP_chars_df"
   ]
  },
  {
   "cell_type": "markdown",
   "id": "e43ce305-71af-49db-a7ec-8d6bbf8566da",
   "metadata": {},
   "source": [
    "Using our knowledge gained from the previous section, let's make a more complex query to the DataFrame: \n",
    "\n",
    "Who are the Slytherins whose wand core contains Dragon Heartstring?"
   ]
  },
  {
   "cell_type": "code",
   "execution_count": null,
   "id": "201fbe21-39e0-412d-874a-89708384def1",
   "metadata": {
    "tags": []
   },
   "outputs": [],
   "source": [
    "HP_chars_df[(HP_chars_df['House'] == 'Slytherin') & (HP_chars_df['Wand (Core)'] == 'Dragon Heartstring')]"
   ]
  },
  {
   "cell_type": "markdown",
   "id": "f50c133b-bff0-4fb8-9a35-004e28dc6a15",
   "metadata": {},
   "source": [
    "## Reading CSVs With Different Header Settings\n",
    "\n",
    "What if we don't want to treat the first row as a header?"
   ]
  },
  {
   "cell_type": "code",
   "execution_count": null,
   "id": "4ed16ba0-967b-4491-b802-9461e7d9e270",
   "metadata": {},
   "outputs": [],
   "source": [
    "pd.read_csv('Data/Characters.csv', header = None)"
   ]
  },
  {
   "cell_type": "markdown",
   "id": "21ee23d2-ec4c-4c51-aa19-4b07dbf5b151",
   "metadata": {},
   "source": [
    "I want to skip the first five rows! No Problem!"
   ]
  },
  {
   "cell_type": "code",
   "execution_count": null,
   "id": "b9c34d33-41a8-4562-95c1-d7bb07562ef5",
   "metadata": {},
   "outputs": [],
   "source": [
    "pd.read_csv('Data/Characters.csv', skiprows=5)"
   ]
  },
  {
   "cell_type": "markdown",
   "id": "004c6a0a-9bd3-4755-a5b9-b405c604fa71",
   "metadata": {},
   "source": [
    "No no no... I don't want that as the header!"
   ]
  },
  {
   "cell_type": "code",
   "execution_count": null,
   "id": "b8e9c2b4-3cc6-4187-b7ba-58f0bb21d6dc",
   "metadata": {},
   "outputs": [],
   "source": [
    "pd.read_csv('Data/Characters.csv', skiprows=5, header = None)"
   ]
  },
  {
   "cell_type": "markdown",
   "id": "af5b386a-5fbe-403b-9269-b20aab293432",
   "metadata": {},
   "source": [
    "## Writing DataFrames"
   ]
  },
  {
   "cell_type": "markdown",
   "id": "db78ff90-5546-40eb-9645-472de3be4dbd",
   "metadata": {},
   "source": [
    "Suppose I want to find all the Gryffindors, then write the results to a local file."
   ]
  },
  {
   "cell_type": "code",
   "execution_count": null,
   "id": "d56e2cbc-e2f0-4f61-8eae-f36c72d94eb5",
   "metadata": {},
   "outputs": [],
   "source": [
    "gryf_df = HP_chars_df[HP_chars_df['House'] == 'Gryffindor']\n",
    "gryf_df"
   ]
  },
  {
   "cell_type": "code",
   "execution_count": null,
   "id": "99f63fd6-6d5b-4375-a581-eccc9ccc0bf1",
   "metadata": {},
   "outputs": [],
   "source": [
    "# This line writes the resulting dataframe to a .csv file, \n",
    "# while the index = False argument omits the index from the output.\n",
    "\n",
    "gryf_df.to_csv('Gryffindor_Characters.csv',index = False)   "
   ]
  },
  {
   "cell_type": "code",
   "execution_count": null,
   "id": "34831470-1777-481c-8614-55ed4fd0ee02",
   "metadata": {
    "scrolled": true,
    "tags": []
   },
   "outputs": [],
   "source": [
    "gryf_df.to_dict() #converts dataframe to a dictionary object"
   ]
  },
  {
   "cell_type": "code",
   "execution_count": null,
   "id": "1b485502-92ab-41bb-a653-b38b599e73ee",
   "metadata": {},
   "outputs": [],
   "source": [
    "gryf_df.to_json('Gryffindor_Characters.json') #writes object to a .json object"
   ]
  },
  {
   "cell_type": "markdown",
   "id": "63c596fc-bde7-4e1c-af4d-92944fc74b38",
   "metadata": {
    "tags": []
   },
   "source": [
    "# Aggregating Data Within a Series"
   ]
  },
  {
   "cell_type": "markdown",
   "id": "f31fa630-6c4c-429f-9896-11fbd9db55c8",
   "metadata": {},
   "source": [
    "## .value_counts()"
   ]
  },
  {
   "cell_type": "code",
   "execution_count": null,
   "id": "36754ddd-f1de-4296-b27d-4ee0fde88053",
   "metadata": {},
   "outputs": [],
   "source": [
    "gryf_df['Gender'].value_counts()"
   ]
  },
  {
   "cell_type": "code",
   "execution_count": null,
   "id": "e25e979e-e743-4f17-9c7e-9d3cab1c48e7",
   "metadata": {},
   "outputs": [],
   "source": [
    "gryf_df['Species'].value_counts()"
   ]
  },
  {
   "cell_type": "markdown",
   "id": "d5c08ff9-2dd6-4fce-9836-d44ebda8cba1",
   "metadata": {},
   "source": [
    "Going back to the original dataset, let's see how the houses break down"
   ]
  },
  {
   "cell_type": "code",
   "execution_count": null,
   "id": "356eb12b-2d4f-4f55-adeb-4773f7b12dc7",
   "metadata": {},
   "outputs": [],
   "source": [
    "HP_chars_df['House'].value_counts(normalize = True) #expresses the unique values as proportions"
   ]
  },
  {
   "cell_type": "code",
   "execution_count": null,
   "id": "010ab490-2573-420f-8cdc-24537109fc14",
   "metadata": {},
   "outputs": [],
   "source": [
    "HP_chars_df['House'].value_counts().plot.bar();"
   ]
  },
  {
   "cell_type": "markdown",
   "id": "f069952f-821f-468d-a1b2-01ece4505578",
   "metadata": {},
   "source": [
    "## pd.cut()\n",
    "\n",
    "Suppose I want to divide the previous dataset into 3 bins. We can use the pd.cut function to do this."
   ]
  },
  {
   "cell_type": "code",
   "execution_count": null,
   "id": "652b3395-6335-41fc-836a-9564e1891906",
   "metadata": {},
   "outputs": [],
   "source": [
    "house_counts = HP_chars_df['House'].value_counts()\n",
    "house_counts"
   ]
  },
  {
   "cell_type": "markdown",
   "id": "dbce9a6e-f596-4ea8-96cc-86991998222b",
   "metadata": {},
   "source": [
    "The default arguments will give you equally spaced bins."
   ]
  },
  {
   "cell_type": "code",
   "execution_count": null,
   "id": "f66998f7-cd06-4fda-aeab-d3160c7b266c",
   "metadata": {},
   "outputs": [],
   "source": [
    "pd.cut(house_counts,3)"
   ]
  },
  {
   "cell_type": "markdown",
   "id": "5cbfdcc9-743b-4794-b16c-60c3d86c2c81",
   "metadata": {},
   "source": [
    "If we want to use customized bin edges, we can do it like this:"
   ]
  },
  {
   "cell_type": "code",
   "execution_count": null,
   "id": "90828a31-5958-486c-9b3b-4ee9f7d21f40",
   "metadata": {},
   "outputs": [],
   "source": [
    "pd.cut(house_counts,[1,7,18,99])"
   ]
  },
  {
   "cell_type": "code",
   "execution_count": null,
   "id": "94d8f921-5d49-4562-8849-64b4b97cafd7",
   "metadata": {},
   "outputs": [],
   "source": [
    "pd.cut(house_counts,[1,7,18,99], labels = ['Bottom Third', 'Middle Third', 'Top Third'])"
   ]
  },
  {
   "cell_type": "markdown",
   "id": "8d81d710-07dd-4e72-9a2a-322c21dcb53f",
   "metadata": {
    "tags": []
   },
   "source": [
    "# Aggregating Data Within a DataFrame"
   ]
  },
  {
   "cell_type": "markdown",
   "id": "c466f440-d72f-44ea-828f-9fc824743bcd",
   "metadata": {},
   "source": [
    "For the next section, let's take a look at a dataset of 2000 individuals with the following data points: income, age, loan principal, default history (0 = False, 1 = True)"
   ]
  },
  {
   "cell_type": "code",
   "execution_count": null,
   "id": "6d8d0bb6-f7cd-4de0-8c75-440e670eb6b9",
   "metadata": {},
   "outputs": [],
   "source": [
    "cred_df = pd.read_csv('Data/credit_data.csv')"
   ]
  },
  {
   "cell_type": "code",
   "execution_count": null,
   "id": "322eb222-c7b1-4bee-817b-ff6df22c2200",
   "metadata": {},
   "outputs": [],
   "source": [
    "cred_df"
   ]
  },
  {
   "cell_type": "code",
   "execution_count": null,
   "id": "0ab68739-b13b-4886-a6f9-0820c22b5ac2",
   "metadata": {},
   "outputs": [],
   "source": [
    "cred_df.describe()"
   ]
  },
  {
   "cell_type": "code",
   "execution_count": null,
   "id": "3d51f6c0-3c0d-48bc-8646-d9ec7b0caba2",
   "metadata": {},
   "outputs": [],
   "source": [
    "cred_df = cred_df.dropna()\n",
    "cred_df"
   ]
  },
  {
   "cell_type": "code",
   "execution_count": null,
   "id": "5874f788-5641-4a68-9ffd-b6813c2204ca",
   "metadata": {},
   "outputs": [],
   "source": [
    "cred_df = cred_df[cred_df['age'] > 0]\n",
    "cred_df"
   ]
  },
  {
   "cell_type": "markdown",
   "id": "2abb02b1-8420-4c26-a0c4-8c6e9a69406f",
   "metadata": {
    "tags": []
   },
   "source": [
    "## .groupby()"
   ]
  },
  {
   "cell_type": "code",
   "execution_count": null,
   "id": "25bdf596-b9e3-473e-b1e0-f88bae57abbe",
   "metadata": {},
   "outputs": [],
   "source": [
    "cred_df[['income','age','loan','default']].groupby('default').mean()"
   ]
  },
  {
   "cell_type": "code",
   "execution_count": null,
   "id": "6a45eadf-9ecc-4aee-993b-977f54153f2b",
   "metadata": {},
   "outputs": [],
   "source": [
    "cred_df.default.value_counts()"
   ]
  },
  {
   "cell_type": "markdown",
   "id": "c1529023-b2a1-4561-baa0-a783c0b294b0",
   "metadata": {
    "tags": []
   },
   "source": [
    "## .crosstab()"
   ]
  },
  {
   "cell_type": "code",
   "execution_count": null,
   "id": "5636e035-b21b-4777-b62b-0bb964bd9c3c",
   "metadata": {},
   "outputs": [],
   "source": [
    "conf_matrix = pd.crosstab(cred_df.age<40, cred_df.default)\n",
    "conf_matrix"
   ]
  },
  {
   "cell_type": "markdown",
   "id": "84dc0afd-9b89-4018-b0d9-6956dbccb58d",
   "metadata": {},
   "source": [
    "precision"
   ]
  },
  {
   "cell_type": "code",
   "execution_count": null,
   "id": "27dc1c10-d9bc-4222-9a6b-4f931aa19987",
   "metadata": {},
   "outputs": [],
   "source": [
    "conf_matrix.loc[True][1] / conf_matrix.loc[True].sum()"
   ]
  },
  {
   "cell_type": "markdown",
   "id": "66adbff3-12df-4735-bcab-1d60e0ead4d4",
   "metadata": {},
   "source": [
    "recall"
   ]
  },
  {
   "cell_type": "code",
   "execution_count": null,
   "id": "1643a82c-e1a9-4da3-b9c7-d297cce1eef2",
   "metadata": {},
   "outputs": [],
   "source": [
    "conf_matrix.loc[True][1] / conf_matrix[1].sum()"
   ]
  },
  {
   "cell_type": "markdown",
   "id": "5fff07bd-05f8-42b6-b6e9-39b272aaf981",
   "metadata": {
    "tags": []
   },
   "source": [
    "# Merging DataFrames"
   ]
  },
  {
   "cell_type": "markdown",
   "id": "8ff3ab66-b7fa-420c-ad50-3880620a0c53",
   "metadata": {
    "jp-MarkdownHeadingCollapsed": true,
    "tags": []
   },
   "source": [
    "For the following section, let's create our own dataframes and look at the different ways to merge them."
   ]
  },
  {
   "cell_type": "markdown",
   "id": "b7ca711c-4cbb-4361-89cf-99c374510094",
   "metadata": {
    "tags": []
   },
   "source": [
    "## How to Set/Reset DataFrame Index"
   ]
  },
  {
   "cell_type": "code",
   "execution_count": null,
   "id": "02269f43-3906-4a9c-9382-208bbc60574d",
   "metadata": {
    "tags": []
   },
   "outputs": [],
   "source": [
    "grades_df = pd.DataFrame({'Name': ['Sal', 'Joe', 'Q', 'Murr'],'Grade': (100 * np.random.rand(4))})\n",
    "grades_df"
   ]
  },
  {
   "cell_type": "code",
   "execution_count": null,
   "id": "858a62a7-ee0f-498c-b854-a7d647f80c11",
   "metadata": {},
   "outputs": [],
   "source": [
    "majors_df = pd.DataFrame({'Name': ['Phil', 'Joe', 'Jack', 'Bob','Q'],'Major':['Applied Math','Computer Science','History','Civil Engineering','Philosophy']})\n",
    "majors_df"
   ]
  },
  {
   "cell_type": "code",
   "execution_count": null,
   "id": "5454cdfe-d153-4003-a223-08fe9dd9f2c4",
   "metadata": {},
   "outputs": [],
   "source": [
    "grades_df = grades_df.set_index('Name')\n",
    "grades_df"
   ]
  },
  {
   "cell_type": "code",
   "execution_count": null,
   "id": "07f3c163-6202-4bbf-ad4b-2e3891cae8a7",
   "metadata": {},
   "outputs": [],
   "source": [
    "majors_df = majors_df.set_index('Name')\n",
    "majors_df"
   ]
  },
  {
   "cell_type": "code",
   "execution_count": null,
   "id": "b1ceb896-4c67-4eb3-8f3a-ee5ce1f3bcdb",
   "metadata": {},
   "outputs": [],
   "source": [
    "majors_df.reset_index() #If you want to undo the new index, you can reset it like so."
   ]
  },
  {
   "cell_type": "markdown",
   "id": "153ac9a9-c42c-4a3f-9d2d-97e0eb9d35e3",
   "metadata": {},
   "source": [
    "## Outer/Inner Joins"
   ]
  },
  {
   "cell_type": "code",
   "execution_count": null,
   "id": "fee15c00-d499-4b67-94e6-29ff5032159e",
   "metadata": {},
   "outputs": [],
   "source": [
    "grades_df.merge(majors_df,how = 'inner',on = 'Name') #intersection of two dataframes"
   ]
  },
  {
   "cell_type": "code",
   "execution_count": null,
   "id": "0e3dbf00-59d8-4913-8c34-b0a469151e4c",
   "metadata": {
    "tags": []
   },
   "outputs": [],
   "source": [
    "grades_df.merge(majors_df,how = 'outer',on = 'Name') #union of two dataframes"
   ]
  },
  {
   "cell_type": "markdown",
   "id": "82a8f3a1-9ceb-4e94-9ccd-cfaa94e888e6",
   "metadata": {},
   "source": [
    "## Left/Right Merges"
   ]
  },
  {
   "cell_type": "markdown",
   "id": "7b320921-0dcd-4d80-ac30-c8bfdfbf318c",
   "metadata": {
    "tags": []
   },
   "source": [
    "Once we learn how to merge dataframes, we can take multiple tables of information and combine them to answer more sophisticated questions:\n",
    "(Under the implied assumption that the data is accurate)\n",
    "* Approximately how much of the Harry Potter Cinematic Universe (HPCU) takes place in Hogwarts?\n",
    "    * What are the 5 most common locations within the HPCU ?\n",
    "* In how many lines is the word 'Horcruxes' mentioned?"
   ]
  },
  {
   "cell_type": "code",
   "execution_count": null,
   "id": "7e3c078a-fbde-4953-8beb-85478563dc3c",
   "metadata": {
    "tags": []
   },
   "outputs": [],
   "source": [
    "HP_places_df = pd.read_csv('Data/Places.csv')\n",
    "HP_dialogue_df = pd.read_csv('Data/Dialogue.csv', encoding = \"ISO-8859-1\")"
   ]
  },
  {
   "cell_type": "code",
   "execution_count": null,
   "id": "444fde64-61cd-4266-babd-f364925278ed",
   "metadata": {
    "tags": []
   },
   "outputs": [],
   "source": [
    "HP_merged_df = HP_dialogue_df.merge(HP_places_df,how = 'left', on='Place ID')\n",
    "HP_merged_df.sort_values('Dialogue ID')"
   ]
  },
  {
   "cell_type": "code",
   "execution_count": null,
   "id": "93a54d55-2f81-40ee-b361-725cd64a7350",
   "metadata": {
    "tags": []
   },
   "outputs": [],
   "source": [
    "HP_merged_df"
   ]
  },
  {
   "cell_type": "code",
   "execution_count": null,
   "id": "6b385b2c-7862-4dbd-837b-a0a96b863ac6",
   "metadata": {
    "tags": []
   },
   "outputs": [],
   "source": [
    "HP_merged_df.merge(HP_chars_df,how = 'left', on='Character ID').sort_values('Dialogue ID')"
   ]
  },
  {
   "cell_type": "code",
   "execution_count": null,
   "id": "3c635559-369f-46a5-992a-dfa9d0631268",
   "metadata": {},
   "outputs": [],
   "source": [
    "HP_merged_df = HP_merged_df.merge(HP_chars_df,how = 'right', on='Character ID')"
   ]
  },
  {
   "cell_type": "code",
   "execution_count": null,
   "id": "797c6642-9368-4c50-9dde-5cf8af152d55",
   "metadata": {},
   "outputs": [],
   "source": [
    "HP_condensed_df = HP_merged_df[['Dialogue ID','Character Name','Place Name', 'Place Category','Dialogue']].set_index('Dialogue ID')"
   ]
  },
  {
   "cell_type": "code",
   "execution_count": null,
   "id": "56b3a6b2-2eb3-4fac-ad11-34865ba2dc1b",
   "metadata": {},
   "outputs": [],
   "source": [
    "HP_condensed_df = HP_condensed_df.sort_index()"
   ]
  },
  {
   "cell_type": "code",
   "execution_count": null,
   "id": "26a1b4fb-10be-43e4-b995-cb86f2bb31e9",
   "metadata": {},
   "outputs": [],
   "source": [
    "HP_condensed_df"
   ]
  },
  {
   "cell_type": "code",
   "execution_count": null,
   "id": "acbf98c1-01c1-496e-b3a4-f5c06c780e58",
   "metadata": {},
   "outputs": [],
   "source": [
    "HP_condensed_df.value_counts('Place Category',normalize = True)"
   ]
  },
  {
   "cell_type": "code",
   "execution_count": null,
   "id": "ad2f7b8e-90c8-4dab-92b2-04f23420d061",
   "metadata": {},
   "outputs": [],
   "source": [
    "HP_condensed_df.value_counts('Place Name').iloc[:5]"
   ]
  },
  {
   "cell_type": "code",
   "execution_count": null,
   "id": "fdbd614c-2de9-487d-8d5b-e9b12b9d32f5",
   "metadata": {},
   "outputs": [],
   "source": [
    "HP_condensed_df[HP_condensed_df['Dialogue'].str.contains('Horcruxes')]"
   ]
  },
  {
   "cell_type": "code",
   "execution_count": null,
   "id": "32579ca3-7eba-4dc2-90a0-152b98df5832",
   "metadata": {},
   "outputs": [],
   "source": [
    "HP_condensed_df[HP_condensed_df['Dialogue'].str.contains('Horcruxes')].shape[0]"
   ]
  },
  {
   "cell_type": "markdown",
   "id": "67a3db6e-505e-4403-9b50-48c34094c34d",
   "metadata": {
    "tags": []
   },
   "source": [
    "# Data Visualization Within A DataFrame"
   ]
  },
  {
   "cell_type": "code",
   "execution_count": null,
   "id": "900b9e7a-88c8-4841-8493-0b3653226478",
   "metadata": {
    "tags": []
   },
   "outputs": [],
   "source": [
    "income_df = pd.read_csv('Data/median_weekly_earnings_1979to2018.csv')\n",
    "income_df.head(5)"
   ]
  },
  {
   "cell_type": "code",
   "execution_count": null,
   "id": "d713ce43-0e56-4d74-80a4-a699905ba03c",
   "metadata": {},
   "outputs": [],
   "source": [
    "income_df = income_df.dropna().astype(int)\n",
    "income_df.head(5)"
   ]
  },
  {
   "cell_type": "code",
   "execution_count": null,
   "id": "d34933f3-cc15-4ed2-b7ae-a14f1af8297c",
   "metadata": {},
   "outputs": [],
   "source": [
    "income_df.plot.scatter('Year','Median Weekly Earnings ',marker = '^',color = 'r');"
   ]
  },
  {
   "cell_type": "code",
   "execution_count": null,
   "id": "ce370d4d-6c5f-4649-94d2-d90670f1e77f",
   "metadata": {},
   "outputs": [],
   "source": [
    "income_df.plot.line('Year','Median Weekly Earnings ',marker = 's',color = 'g');"
   ]
  },
  {
   "cell_type": "code",
   "execution_count": null,
   "id": "35858b2d-0de5-45e2-b17c-ecf0de3d1908",
   "metadata": {},
   "outputs": [],
   "source": [
    "income_df.plot.line('Year','Median Weekly Earnings ',marker = 's',color = 'g', title = 'Year vs. Median Weekly Earnings');"
   ]
  },
  {
   "cell_type": "code",
   "execution_count": null,
   "id": "e9d8214c-00fc-446b-b7ea-1345f812152a",
   "metadata": {},
   "outputs": [],
   "source": [
    "income_df.plot.line('Year','Median Weekly Earnings ',marker = 's',color = 'g', title = 'Year vs. Median Weekly Earnings', ylabel = 'Dollars');"
   ]
  },
  {
   "cell_type": "code",
   "execution_count": null,
   "id": "c76f679e-1b05-494b-9071-a8565011ae7c",
   "metadata": {},
   "outputs": [],
   "source": [
    "income_df['Median Weekly Earnings '].plot.box(title = 'Title', color = 'red');"
   ]
  }
 ],
 "metadata": {
  "kernelspec": {
   "display_name": "Python 3 (ipykernel)",
   "language": "python",
   "name": "python3"
  },
  "language_info": {
   "codemirror_mode": {
    "name": "ipython",
    "version": 3
   },
   "file_extension": ".py",
   "mimetype": "text/x-python",
   "name": "python",
   "nbconvert_exporter": "python",
   "pygments_lexer": "ipython3",
   "version": "3.9.7"
  },
  "toc-autonumbering": true,
  "toc-showcode": false,
  "toc-showmarkdowntxt": false
 },
 "nbformat": 4,
 "nbformat_minor": 5
}
